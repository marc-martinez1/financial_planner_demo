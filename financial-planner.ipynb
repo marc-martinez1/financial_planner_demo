{
 "cells": [
  {
   "cell_type": "markdown",
   "metadata": {},
   "source": [
    "# Unit 5 - Financial Planning"
   ]
  },
  {
   "cell_type": "code",
   "execution_count": 1,
   "metadata": {
    "tags": []
   },
   "outputs": [],
   "source": [
    "# Initial imports\n",
    "import os\n",
    "import requests\n",
    "import pandas as pd\n",
    "from dotenv import load_dotenv\n",
    "import alpaca_trade_api as tradeapi\n",
    "from MCForecastTools import MCSimulation\n",
    "\n",
    "%matplotlib inline"
   ]
  },
  {
   "cell_type": "code",
   "execution_count": 2,
   "metadata": {
    "tags": []
   },
   "outputs": [
    {
     "data": {
      "text/plain": [
       "True"
      ]
     },
     "execution_count": 2,
     "metadata": {},
     "output_type": "execute_result"
    }
   ],
   "source": [
    "# Load .env enviroment variables\n",
    "load_dotenv('alpaca.env')"
   ]
  },
  {
   "cell_type": "markdown",
   "metadata": {},
   "source": [
    "## Part 1 - Personal Finance Planner"
   ]
  },
  {
   "cell_type": "markdown",
   "metadata": {},
   "source": [
    "### Collect Crypto Prices Using the `requests` Library"
   ]
  },
  {
   "cell_type": "code",
   "execution_count": 3,
   "metadata": {},
   "outputs": [],
   "source": [
    "# Set current amount of crypto assets\n",
    "my_btc = 1.2\n",
    "my_eth = 5.3"
   ]
  },
  {
   "cell_type": "code",
   "execution_count": 4,
   "metadata": {},
   "outputs": [],
   "source": [
    "# Crypto API URLs\n",
    "btc_url = \"https://api.alternative.me/v2/ticker/Bitcoin/?convert=USD\"\n",
    "eth_url = \"https://api.alternative.me/v2/ticker/Ethereum/?convert=USD\""
   ]
  },
  {
   "cell_type": "code",
   "execution_count": 5,
   "metadata": {},
   "outputs": [
    {
     "name": "stdout",
     "output_type": "stream",
     "text": [
      "The current value of your 1.2 BTC is $35119.20\n",
      "The current value of your 5.3 ETH is $9861.82\n"
     ]
    }
   ],
   "source": [
    "# Fetch current BTC price\n",
    "btc_request = requests.get(btc_url).json()\n",
    "btc_price = btc_request['data']['1']['quotes']['USD']['price']\n",
    "\n",
    "# Fetch current ETH price\n",
    "eth_request = requests.get(eth_url).json()\n",
    "eth_price = eth_request['data']['1027']['quotes']['USD']['price']\n",
    "\n",
    "# Compute current value of my crpto\n",
    "my_btc_value = my_btc * btc_price\n",
    "my_eth_value = my_eth * eth_price\n",
    "\n",
    "# Print current crypto wallet balance\n",
    "print(f\"The current value of your {my_btc} BTC is ${my_btc_value:0.2f}\")\n",
    "print(f\"The current value of your {my_eth} ETH is ${my_eth_value:0.2f}\")"
   ]
  },
  {
   "cell_type": "markdown",
   "metadata": {},
   "source": [
    "### Collect Investments Data Using Alpaca: `SPY` (stocks) and `AGG` (bonds)"
   ]
  },
  {
   "cell_type": "code",
   "execution_count": 6,
   "metadata": {},
   "outputs": [],
   "source": [
    "# Set current amount of shares\n",
    "my_agg = 200\n",
    "my_spy = 50"
   ]
  },
  {
   "cell_type": "code",
   "execution_count": 7,
   "metadata": {},
   "outputs": [],
   "source": [
    "# Set Alpaca API key and secret\n",
    "alpaca_api = os.getenv(\"ALPACA_API_KEY\")\n",
    "alpaca_secret_api = os.getenv(\"SECRET_ALPACA_API_KEY\")\n",
    "\n",
    "# Create the Alpaca API object\n",
    "alpaca = tradeapi.REST(\n",
    "    alpaca_api, \n",
    "    alpaca_secret_api, \n",
    "    api_version=\"v2\"\n",
    ")"
   ]
  },
  {
   "cell_type": "code",
   "execution_count": 8,
   "metadata": {},
   "outputs": [
    {
     "data": {
      "text/html": [
       "<div>\n",
       "<style scoped>\n",
       "    .dataframe tbody tr th:only-of-type {\n",
       "        vertical-align: middle;\n",
       "    }\n",
       "\n",
       "    .dataframe tbody tr th {\n",
       "        vertical-align: top;\n",
       "    }\n",
       "\n",
       "    .dataframe thead tr th {\n",
       "        text-align: left;\n",
       "    }\n",
       "\n",
       "    .dataframe thead tr:last-of-type th {\n",
       "        text-align: right;\n",
       "    }\n",
       "</style>\n",
       "<table border=\"1\" class=\"dataframe\">\n",
       "  <thead>\n",
       "    <tr>\n",
       "      <th></th>\n",
       "      <th colspan=\"7\" halign=\"left\">AGG</th>\n",
       "      <th colspan=\"7\" halign=\"left\">SPY</th>\n",
       "    </tr>\n",
       "    <tr>\n",
       "      <th></th>\n",
       "      <th>open</th>\n",
       "      <th>high</th>\n",
       "      <th>low</th>\n",
       "      <th>close</th>\n",
       "      <th>volume</th>\n",
       "      <th>trade_count</th>\n",
       "      <th>vwap</th>\n",
       "      <th>open</th>\n",
       "      <th>high</th>\n",
       "      <th>low</th>\n",
       "      <th>close</th>\n",
       "      <th>volume</th>\n",
       "      <th>trade_count</th>\n",
       "      <th>vwap</th>\n",
       "    </tr>\n",
       "    <tr>\n",
       "      <th>timestamp</th>\n",
       "      <th></th>\n",
       "      <th></th>\n",
       "      <th></th>\n",
       "      <th></th>\n",
       "      <th></th>\n",
       "      <th></th>\n",
       "      <th></th>\n",
       "      <th></th>\n",
       "      <th></th>\n",
       "      <th></th>\n",
       "      <th></th>\n",
       "      <th></th>\n",
       "      <th></th>\n",
       "      <th></th>\n",
       "    </tr>\n",
       "  </thead>\n",
       "  <tbody>\n",
       "    <tr>\n",
       "      <th>2023-07-24 04:00:00+00:00</th>\n",
       "      <td>98.1</td>\n",
       "      <td>98.155</td>\n",
       "      <td>97.79</td>\n",
       "      <td>97.81</td>\n",
       "      <td>6651202</td>\n",
       "      <td>22607</td>\n",
       "      <td>97.916794</td>\n",
       "      <td>453.37</td>\n",
       "      <td>455.04</td>\n",
       "      <td>452.298</td>\n",
       "      <td>454.2</td>\n",
       "      <td>53733655</td>\n",
       "      <td>398423</td>\n",
       "      <td>453.925324</td>\n",
       "    </tr>\n",
       "  </tbody>\n",
       "</table>\n",
       "</div>"
      ],
      "text/plain": [
       "                            AGG                                             \\\n",
       "                           open    high    low  close   volume trade_count   \n",
       "timestamp                                                                    \n",
       "2023-07-24 04:00:00+00:00  98.1  98.155  97.79  97.81  6651202       22607   \n",
       "\n",
       "                                         SPY                          \\\n",
       "                                vwap    open    high      low  close   \n",
       "timestamp                                                              \n",
       "2023-07-24 04:00:00+00:00  97.916794  453.37  455.04  452.298  454.2   \n",
       "\n",
       "                                                             \n",
       "                             volume trade_count        vwap  \n",
       "timestamp                                                    \n",
       "2023-07-24 04:00:00+00:00  53733655      398423  453.925324  "
      ]
     },
     "execution_count": 8,
     "metadata": {},
     "output_type": "execute_result"
    }
   ],
   "source": [
    "# Format current date as ISO format\n",
    "today = pd.Timestamp(\"2023-07-24\", tz=\"America/New_York\").isoformat()\n",
    "\n",
    "# Set the tickers\n",
    "tickers = [\"AGG\", \"SPY\"]\n",
    "\n",
    "# Set timeframe to \"1Day\" for Alpaca API\n",
    "timeframe = \"1Day\"\n",
    "\n",
    "# Get current closing prices for SPY and AGG\n",
    "df_portfolio = alpaca.get_bars(\n",
    "    tickers,\n",
    "    timeframe,\n",
    "    start = today,\n",
    "    end = today\n",
    ").df\n",
    "\n",
    "# Reorganize the DataFrame\n",
    "# Separate ticker data\n",
    "AGG = df_portfolio[df_portfolio['symbol']=='AGG'].drop('symbol', axis=1)\n",
    "SPY = df_portfolio[df_portfolio['symbol']=='SPY'].drop('symbol', axis=1)\n",
    "\n",
    "# Concatenate the ticker DataFrames\n",
    "df_portfolio = pd.concat([AGG, SPY],axis=1, keys=['AGG','SPY'])\n",
    "\n",
    "# Preview DataFrame\n",
    "df_portfolio"
   ]
  },
  {
   "cell_type": "code",
   "execution_count": 9,
   "metadata": {},
   "outputs": [
    {
     "name": "stdout",
     "output_type": "stream",
     "text": [
      "Current AGG closing price: $97.81\n",
      "Current SPY closing price: $454.20\n"
     ]
    }
   ],
   "source": [
    "# Pick AGG and SPY close prices\n",
    "agg_close_price = df_portfolio['AGG']['close'][-1]\n",
    "spy_close_price = df_portfolio['SPY']['close'][-1]\n",
    "\n",
    "# Print AGG and SPY close prices\n",
    "print(f\"Current AGG closing price: ${agg_close_price:0.2f}\")\n",
    "print(f\"Current SPY closing price: ${spy_close_price:0.2f}\")"
   ]
  },
  {
   "cell_type": "code",
   "execution_count": 10,
   "metadata": {},
   "outputs": [
    {
     "name": "stdout",
     "output_type": "stream",
     "text": [
      "The current value of your 50 SPY shares is $22710.00\n",
      "The current value of your 200 AGG shares is $19562.00\n"
     ]
    }
   ],
   "source": [
    "# Compute the current value of shares\n",
    "my_agg_value = my_agg * agg_close_price\n",
    "my_spy_value = my_spy * spy_close_price\n",
    "\n",
    "# Print current value of shares\n",
    "print(f\"The current value of your {my_spy} SPY shares is ${my_spy_value:0.2f}\")\n",
    "print(f\"The current value of your {my_agg} AGG shares is ${my_agg_value:0.2f}\")"
   ]
  },
  {
   "cell_type": "markdown",
   "metadata": {},
   "source": [
    "### Savings Health Analysis"
   ]
  },
  {
   "cell_type": "code",
   "execution_count": 11,
   "metadata": {},
   "outputs": [
    {
     "data": {
      "text/html": [
       "<div>\n",
       "<style scoped>\n",
       "    .dataframe tbody tr th:only-of-type {\n",
       "        vertical-align: middle;\n",
       "    }\n",
       "\n",
       "    .dataframe tbody tr th {\n",
       "        vertical-align: top;\n",
       "    }\n",
       "\n",
       "    .dataframe thead th {\n",
       "        text-align: right;\n",
       "    }\n",
       "</style>\n",
       "<table border=\"1\" class=\"dataframe\">\n",
       "  <thead>\n",
       "    <tr style=\"text-align: right;\">\n",
       "      <th></th>\n",
       "      <th>amount</th>\n",
       "    </tr>\n",
       "  </thead>\n",
       "  <tbody>\n",
       "    <tr>\n",
       "      <th>crypto</th>\n",
       "      <td>44981.016</td>\n",
       "    </tr>\n",
       "    <tr>\n",
       "      <th>shares</th>\n",
       "      <td>42272.000</td>\n",
       "    </tr>\n",
       "  </tbody>\n",
       "</table>\n",
       "</div>"
      ],
      "text/plain": [
       "           amount\n",
       "crypto  44981.016\n",
       "shares  42272.000"
      ]
     },
     "metadata": {},
     "output_type": "display_data"
    }
   ],
   "source": [
    "# Set monthly household income\n",
    "monthly_income = 12000\n",
    "\n",
    "# Consolidate financial assets data\n",
    "crypto = my_btc_value + my_eth_value\n",
    "shares = my_agg_value + my_spy_value\n",
    "financial_assets_data = {\"amount\":[crypto, shares]}\n",
    "\n",
    "# Create savings DataFrame\n",
    "df_savings = pd.DataFrame(financial_assets_data, index =['crypto','shares'])\n",
    "\n",
    "# Display savings DataFrame\n",
    "display(df_savings)"
   ]
  },
  {
   "cell_type": "code",
   "execution_count": 12,
   "metadata": {},
   "outputs": [
    {
     "data": {
      "text/plain": [
       "array([<Axes: ylabel='amount'>], dtype=object)"
      ]
     },
     "execution_count": 12,
     "metadata": {},
     "output_type": "execute_result"
    },
    {
     "data": {
      "image/png": "[encoded data removed]",
      "text/plain": [
       "<Figure size 640x480 with 1 Axes>"
      ]
     },
     "metadata": {},
     "output_type": "display_data"
    }
   ],
   "source": [
    "# Plot savings pie chart\n",
    "df_savings.plot.pie(subplots=True)"
   ]
  },
  {
   "cell_type": "code",
   "execution_count": 13,
   "metadata": {},
   "outputs": [
    {
     "name": "stdout",
     "output_type": "stream",
     "text": [
      "Your emergency fund goal has been met!\n"
     ]
    }
   ],
   "source": [
    "# Set ideal emergency fund\n",
    "emergency_fund = monthly_income * 3\n",
    "\n",
    "# Calculate total amount of savings\n",
    "total_savings = float(df_savings.sum())\n",
    "\n",
    "# Validate saving health\n",
    "if total_savings >= emergency_fund:\n",
    "    print(\"Your emergency fund goal has been met!\")\n",
    "else:\n",
    "    print(\"Your emergency fund goal has NOT been met\")"
   ]
  },
  {
   "cell_type": "markdown",
   "metadata": {},
   "source": [
    "## Part 2 - Retirement Planning\n",
    "\n",
    "### Monte Carlo Simulation"
   ]
  },
  {
   "cell_type": "code",
   "execution_count": 14,
   "metadata": {},
   "outputs": [],
   "source": [
    "# Set start and end dates of five years back from today.\n",
    "# Sample results may vary from the solution based on the time frame chosen\n",
    "start_date = pd.Timestamp('2018-07-24', tz='America/New_York').isoformat()\n",
    "end_date = pd.Timestamp('2023-07-24', tz='America/New_York').isoformat()"
   ]
  },
  {
   "cell_type": "code",
   "execution_count": 15,
   "metadata": {
    "tags": []
   },
   "outputs": [
    {
     "data": {
      "text/html": [
       "<div>\n",
       "<style scoped>\n",
       "    .dataframe tbody tr th:only-of-type {\n",
       "        vertical-align: middle;\n",
       "    }\n",
       "\n",
       "    .dataframe tbody tr th {\n",
       "        vertical-align: top;\n",
       "    }\n",
       "\n",
       "    .dataframe thead tr th {\n",
       "        text-align: left;\n",
       "    }\n",
       "\n",
       "    .dataframe thead tr:last-of-type th {\n",
       "        text-align: right;\n",
       "    }\n",
       "</style>\n",
       "<table border=\"1\" class=\"dataframe\">\n",
       "  <thead>\n",
       "    <tr>\n",
       "      <th></th>\n",
       "      <th colspan=\"7\" halign=\"left\">AGG</th>\n",
       "      <th colspan=\"7\" halign=\"left\">SPY</th>\n",
       "    </tr>\n",
       "    <tr>\n",
       "      <th></th>\n",
       "      <th>open</th>\n",
       "      <th>high</th>\n",
       "      <th>low</th>\n",
       "      <th>close</th>\n",
       "      <th>volume</th>\n",
       "      <th>trade_count</th>\n",
       "      <th>vwap</th>\n",
       "      <th>open</th>\n",
       "      <th>high</th>\n",
       "      <th>low</th>\n",
       "      <th>close</th>\n",
       "      <th>volume</th>\n",
       "      <th>trade_count</th>\n",
       "      <th>vwap</th>\n",
       "    </tr>\n",
       "    <tr>\n",
       "      <th>timestamp</th>\n",
       "      <th></th>\n",
       "      <th></th>\n",
       "      <th></th>\n",
       "      <th></th>\n",
       "      <th></th>\n",
       "      <th></th>\n",
       "      <th></th>\n",
       "      <th></th>\n",
       "      <th></th>\n",
       "      <th></th>\n",
       "      <th></th>\n",
       "      <th></th>\n",
       "      <th></th>\n",
       "      <th></th>\n",
       "    </tr>\n",
       "  </thead>\n",
       "  <tbody>\n",
       "    <tr>\n",
       "      <th>2018-07-24 04:00:00+00:00</th>\n",
       "      <td>105.92</td>\n",
       "      <td>106.0700</td>\n",
       "      <td>105.9001</td>\n",
       "      <td>106.05</td>\n",
       "      <td>3590304</td>\n",
       "      <td>10697</td>\n",
       "      <td>106.024395</td>\n",
       "      <td>281.79</td>\n",
       "      <td>282.56</td>\n",
       "      <td>280.63</td>\n",
       "      <td>281.55</td>\n",
       "      <td>68218935</td>\n",
       "      <td>251365</td>\n",
       "      <td>281.615133</td>\n",
       "    </tr>\n",
       "    <tr>\n",
       "      <th>2018-07-25 04:00:00+00:00</th>\n",
       "      <td>106.12</td>\n",
       "      <td>106.1700</td>\n",
       "      <td>105.9500</td>\n",
       "      <td>106.06</td>\n",
       "      <td>3318801</td>\n",
       "      <td>10511</td>\n",
       "      <td>106.071140</td>\n",
       "      <td>281.33</td>\n",
       "      <td>284.37</td>\n",
       "      <td>281.28</td>\n",
       "      <td>284.14</td>\n",
       "      <td>78935477</td>\n",
       "      <td>265447</td>\n",
       "      <td>282.837607</td>\n",
       "    </tr>\n",
       "    <tr>\n",
       "      <th>2018-07-26 04:00:00+00:00</th>\n",
       "      <td>106.10</td>\n",
       "      <td>106.1500</td>\n",
       "      <td>105.9500</td>\n",
       "      <td>106.00</td>\n",
       "      <td>2245020</td>\n",
       "      <td>9617</td>\n",
       "      <td>106.031610</td>\n",
       "      <td>283.20</td>\n",
       "      <td>284.11</td>\n",
       "      <td>283.09</td>\n",
       "      <td>283.30</td>\n",
       "      <td>58005495</td>\n",
       "      <td>237666</td>\n",
       "      <td>283.483326</td>\n",
       "    </tr>\n",
       "    <tr>\n",
       "      <th>2018-07-27 04:00:00+00:00</th>\n",
       "      <td>106.13</td>\n",
       "      <td>106.1599</td>\n",
       "      <td>106.0400</td>\n",
       "      <td>106.08</td>\n",
       "      <td>2637432</td>\n",
       "      <td>10297</td>\n",
       "      <td>106.083809</td>\n",
       "      <td>283.71</td>\n",
       "      <td>283.82</td>\n",
       "      <td>280.38</td>\n",
       "      <td>281.46</td>\n",
       "      <td>78312976</td>\n",
       "      <td>326991</td>\n",
       "      <td>281.784023</td>\n",
       "    </tr>\n",
       "    <tr>\n",
       "      <th>2018-07-30 04:00:00+00:00</th>\n",
       "      <td>105.94</td>\n",
       "      <td>106.0500</td>\n",
       "      <td>105.9100</td>\n",
       "      <td>105.97</td>\n",
       "      <td>5518246</td>\n",
       "      <td>16829</td>\n",
       "      <td>105.982889</td>\n",
       "      <td>281.51</td>\n",
       "      <td>281.69</td>\n",
       "      <td>279.36</td>\n",
       "      <td>279.90</td>\n",
       "      <td>64319758</td>\n",
       "      <td>252060</td>\n",
       "      <td>280.290726</td>\n",
       "    </tr>\n",
       "  </tbody>\n",
       "</table>\n",
       "</div>"
      ],
      "text/plain": [
       "                              AGG                                       \\\n",
       "                             open      high       low   close   volume   \n",
       "timestamp                                                                \n",
       "2018-07-24 04:00:00+00:00  105.92  106.0700  105.9001  106.05  3590304   \n",
       "2018-07-25 04:00:00+00:00  106.12  106.1700  105.9500  106.06  3318801   \n",
       "2018-07-26 04:00:00+00:00  106.10  106.1500  105.9500  106.00  2245020   \n",
       "2018-07-27 04:00:00+00:00  106.13  106.1599  106.0400  106.08  2637432   \n",
       "2018-07-30 04:00:00+00:00  105.94  106.0500  105.9100  105.97  5518246   \n",
       "\n",
       "                                                      SPY                  \\\n",
       "                          trade_count        vwap    open    high     low   \n",
       "timestamp                                                                   \n",
       "2018-07-24 04:00:00+00:00       10697  106.024395  281.79  282.56  280.63   \n",
       "2018-07-25 04:00:00+00:00       10511  106.071140  281.33  284.37  281.28   \n",
       "2018-07-26 04:00:00+00:00        9617  106.031610  283.20  284.11  283.09   \n",
       "2018-07-27 04:00:00+00:00       10297  106.083809  283.71  283.82  280.38   \n",
       "2018-07-30 04:00:00+00:00       16829  105.982889  281.51  281.69  279.36   \n",
       "\n",
       "                                                                     \n",
       "                            close    volume trade_count        vwap  \n",
       "timestamp                                                            \n",
       "2018-07-24 04:00:00+00:00  281.55  68218935      251365  281.615133  \n",
       "2018-07-25 04:00:00+00:00  284.14  78935477      265447  282.837607  \n",
       "2018-07-26 04:00:00+00:00  283.30  58005495      237666  283.483326  \n",
       "2018-07-27 04:00:00+00:00  281.46  78312976      326991  281.784023  \n",
       "2018-07-30 04:00:00+00:00  279.90  64319758      252060  280.290726  "
      ]
     },
     "execution_count": 15,
     "metadata": {},
     "output_type": "execute_result"
    }
   ],
   "source": [
    "# Get 5 years' worth of historical data for SPY and AGG\n",
    "df_historical_data = alpaca.get_bars(\n",
    "    tickers,\n",
    "    timeframe,\n",
    "    start = start_date,\n",
    "    end = end_date\n",
    ").df\n",
    "\n",
    "# Reorganize the DataFrame\n",
    "# Separate ticker data\n",
    "AGG = df_historical_data[df_historical_data['symbol']=='AGG'].drop('symbol', axis=1)\n",
    "SPY = df_historical_data[df_historical_data['symbol']=='SPY'].drop('symbol', axis=1)\n",
    "\n",
    "# Concatenate the ticker DataFrames\n",
    "df_historical_data = pd.concat([AGG, SPY],axis=1, keys=['AGG','SPY'])\n",
    "\n",
    "# Display sample data\n",
    "df_historical_data.head()"
   ]
  },
  {
   "cell_type": "code",
   "execution_count": 16,
   "metadata": {},
   "outputs": [],
   "source": [
    "# Configuring a Monte Carlo simulation to forecast 30 years cumulative returns\n",
    "weights = [0.2,.8]\n",
    "num_yrs = 30\n",
    "portfolio_forecast = MCSimulation(\n",
    "    portfolio_data = df_historical_data,\n",
    "    weights= weights,\n",
    "    num_simulation=100,\n",
    "    num_trading_days = 252*num_yrs\n",
    ")"
   ]
  },
  {
   "cell_type": "code",
   "execution_count": 17,
   "metadata": {},
   "outputs": [
    {
     "data": {
      "text/html": [
       "<div>\n",
       "<style scoped>\n",
       "    .dataframe tbody tr th:only-of-type {\n",
       "        vertical-align: middle;\n",
       "    }\n",
       "\n",
       "    .dataframe tbody tr th {\n",
       "        vertical-align: top;\n",
       "    }\n",
       "\n",
       "    .dataframe thead tr th {\n",
       "        text-align: left;\n",
       "    }\n",
       "\n",
       "    .dataframe thead tr:last-of-type th {\n",
       "        text-align: right;\n",
       "    }\n",
       "</style>\n",
       "<table border=\"1\" class=\"dataframe\">\n",
       "  <thead>\n",
       "    <tr>\n",
       "      <th></th>\n",
       "      <th colspan=\"8\" halign=\"left\">AGG</th>\n",
       "      <th colspan=\"8\" halign=\"left\">SPY</th>\n",
       "    </tr>\n",
       "    <tr>\n",
       "      <th></th>\n",
       "      <th>open</th>\n",
       "      <th>high</th>\n",
       "      <th>low</th>\n",
       "      <th>close</th>\n",
       "      <th>volume</th>\n",
       "      <th>trade_count</th>\n",
       "      <th>vwap</th>\n",
       "      <th>daily_return</th>\n",
       "      <th>open</th>\n",
       "      <th>high</th>\n",
       "      <th>low</th>\n",
       "      <th>close</th>\n",
       "      <th>volume</th>\n",
       "      <th>trade_count</th>\n",
       "      <th>vwap</th>\n",
       "      <th>daily_return</th>\n",
       "    </tr>\n",
       "    <tr>\n",
       "      <th>timestamp</th>\n",
       "      <th></th>\n",
       "      <th></th>\n",
       "      <th></th>\n",
       "      <th></th>\n",
       "      <th></th>\n",
       "      <th></th>\n",
       "      <th></th>\n",
       "      <th></th>\n",
       "      <th></th>\n",
       "      <th></th>\n",
       "      <th></th>\n",
       "      <th></th>\n",
       "      <th></th>\n",
       "      <th></th>\n",
       "      <th></th>\n",
       "      <th></th>\n",
       "    </tr>\n",
       "  </thead>\n",
       "  <tbody>\n",
       "    <tr>\n",
       "      <th>2018-07-24 04:00:00+00:00</th>\n",
       "      <td>105.92</td>\n",
       "      <td>106.0700</td>\n",
       "      <td>105.9001</td>\n",
       "      <td>106.05</td>\n",
       "      <td>3590304</td>\n",
       "      <td>10697</td>\n",
       "      <td>106.024395</td>\n",
       "      <td>NaN</td>\n",
       "      <td>281.79</td>\n",
       "      <td>282.56</td>\n",
       "      <td>280.63</td>\n",
       "      <td>281.55</td>\n",
       "      <td>68218935</td>\n",
       "      <td>251365</td>\n",
       "      <td>281.615133</td>\n",
       "      <td>NaN</td>\n",
       "    </tr>\n",
       "    <tr>\n",
       "      <th>2018-07-25 04:00:00+00:00</th>\n",
       "      <td>106.12</td>\n",
       "      <td>106.1700</td>\n",
       "      <td>105.9500</td>\n",
       "      <td>106.06</td>\n",
       "      <td>3318801</td>\n",
       "      <td>10511</td>\n",
       "      <td>106.071140</td>\n",
       "      <td>0.000094</td>\n",
       "      <td>281.33</td>\n",
       "      <td>284.37</td>\n",
       "      <td>281.28</td>\n",
       "      <td>284.14</td>\n",
       "      <td>78935477</td>\n",
       "      <td>265447</td>\n",
       "      <td>282.837607</td>\n",
       "      <td>0.009199</td>\n",
       "    </tr>\n",
       "    <tr>\n",
       "      <th>2018-07-26 04:00:00+00:00</th>\n",
       "      <td>106.10</td>\n",
       "      <td>106.1500</td>\n",
       "      <td>105.9500</td>\n",
       "      <td>106.00</td>\n",
       "      <td>2245020</td>\n",
       "      <td>9617</td>\n",
       "      <td>106.031610</td>\n",
       "      <td>-0.000566</td>\n",
       "      <td>283.20</td>\n",
       "      <td>284.11</td>\n",
       "      <td>283.09</td>\n",
       "      <td>283.30</td>\n",
       "      <td>58005495</td>\n",
       "      <td>237666</td>\n",
       "      <td>283.483326</td>\n",
       "      <td>-0.002956</td>\n",
       "    </tr>\n",
       "    <tr>\n",
       "      <th>2018-07-27 04:00:00+00:00</th>\n",
       "      <td>106.13</td>\n",
       "      <td>106.1599</td>\n",
       "      <td>106.0400</td>\n",
       "      <td>106.08</td>\n",
       "      <td>2637432</td>\n",
       "      <td>10297</td>\n",
       "      <td>106.083809</td>\n",
       "      <td>0.000755</td>\n",
       "      <td>283.71</td>\n",
       "      <td>283.82</td>\n",
       "      <td>280.38</td>\n",
       "      <td>281.46</td>\n",
       "      <td>78312976</td>\n",
       "      <td>326991</td>\n",
       "      <td>281.784023</td>\n",
       "      <td>-0.006495</td>\n",
       "    </tr>\n",
       "    <tr>\n",
       "      <th>2018-07-30 04:00:00+00:00</th>\n",
       "      <td>105.94</td>\n",
       "      <td>106.0500</td>\n",
       "      <td>105.9100</td>\n",
       "      <td>105.97</td>\n",
       "      <td>5518246</td>\n",
       "      <td>16829</td>\n",
       "      <td>105.982889</td>\n",
       "      <td>-0.001037</td>\n",
       "      <td>281.51</td>\n",
       "      <td>281.69</td>\n",
       "      <td>279.36</td>\n",
       "      <td>279.90</td>\n",
       "      <td>64319758</td>\n",
       "      <td>252060</td>\n",
       "      <td>280.290726</td>\n",
       "      <td>-0.005543</td>\n",
       "    </tr>\n",
       "  </tbody>\n",
       "</table>\n",
       "</div>"
      ],
      "text/plain": [
       "                              AGG                                       \\\n",
       "                             open      high       low   close   volume   \n",
       "timestamp                                                                \n",
       "2018-07-24 04:00:00+00:00  105.92  106.0700  105.9001  106.05  3590304   \n",
       "2018-07-25 04:00:00+00:00  106.12  106.1700  105.9500  106.06  3318801   \n",
       "2018-07-26 04:00:00+00:00  106.10  106.1500  105.9500  106.00  2245020   \n",
       "2018-07-27 04:00:00+00:00  106.13  106.1599  106.0400  106.08  2637432   \n",
       "2018-07-30 04:00:00+00:00  105.94  106.0500  105.9100  105.97  5518246   \n",
       "\n",
       "                                                                   SPY  \\\n",
       "                          trade_count        vwap daily_return    open   \n",
       "timestamp                                                                \n",
       "2018-07-24 04:00:00+00:00       10697  106.024395          NaN  281.79   \n",
       "2018-07-25 04:00:00+00:00       10511  106.071140     0.000094  281.33   \n",
       "2018-07-26 04:00:00+00:00        9617  106.031610    -0.000566  283.20   \n",
       "2018-07-27 04:00:00+00:00       10297  106.083809     0.000755  283.71   \n",
       "2018-07-30 04:00:00+00:00       16829  105.982889    -0.001037  281.51   \n",
       "\n",
       "                                                                         \\\n",
       "                             high     low   close    volume trade_count   \n",
       "timestamp                                                                 \n",
       "2018-07-24 04:00:00+00:00  282.56  280.63  281.55  68218935      251365   \n",
       "2018-07-25 04:00:00+00:00  284.37  281.28  284.14  78935477      265447   \n",
       "2018-07-26 04:00:00+00:00  284.11  283.09  283.30  58005495      237666   \n",
       "2018-07-27 04:00:00+00:00  283.82  280.38  281.46  78312976      326991   \n",
       "2018-07-30 04:00:00+00:00  281.69  279.36  279.90  64319758      252060   \n",
       "\n",
       "                                                    \n",
       "                                 vwap daily_return  \n",
       "timestamp                                           \n",
       "2018-07-24 04:00:00+00:00  281.615133          NaN  \n",
       "2018-07-25 04:00:00+00:00  282.837607     0.009199  \n",
       "2018-07-26 04:00:00+00:00  283.483326    -0.002956  \n",
       "2018-07-27 04:00:00+00:00  281.784023    -0.006495  \n",
       "2018-07-30 04:00:00+00:00  280.290726    -0.005543  "
      ]
     },
     "execution_count": 17,
     "metadata": {},
     "output_type": "execute_result"
    }
   ],
   "source": [
    "# Printing the simulation input data\n",
    "portfolio_forecast.portfolio_data.head()"
   ]
  },
  {
   "cell_type": "code",
   "execution_count": 18,
   "metadata": {},
   "outputs": [
    {
     "name": "stdout",
     "output_type": "stream",
     "text": [
      "Running Monte Carlo simulation number 0.\n",
      "Running Monte Carlo simulation number 10.\n",
      "Running Monte Carlo simulation number 20.\n",
      "Running Monte Carlo simulation number 30.\n",
      "Running Monte Carlo simulation number 40.\n",
      "Running Monte Carlo simulation number 50.\n",
      "Running Monte Carlo simulation number 60.\n",
      "Running Monte Carlo simulation number 70.\n",
      "Running Monte Carlo simulation number 80.\n",
      "Running Monte Carlo simulation number 90.\n"
     ]
    },
    {
     "data": {
      "text/html": [
       "<div>\n",
       "<style scoped>\n",
       "    .dataframe tbody tr th:only-of-type {\n",
       "        vertical-align: middle;\n",
       "    }\n",
       "\n",
       "    .dataframe tbody tr th {\n",
       "        vertical-align: top;\n",
       "    }\n",
       "\n",
       "    .dataframe thead th {\n",
       "        text-align: right;\n",
       "    }\n",
       "</style>\n",
       "<table border=\"1\" class=\"dataframe\">\n",
       "  <thead>\n",
       "    <tr style=\"text-align: right;\">\n",
       "      <th></th>\n",
       "      <th>0</th>\n",
       "      <th>1</th>\n",
       "      <th>2</th>\n",
       "      <th>3</th>\n",
       "      <th>4</th>\n",
       "      <th>5</th>\n",
       "      <th>6</th>\n",
       "      <th>7</th>\n",
       "      <th>8</th>\n",
       "      <th>9</th>\n",
       "      <th>...</th>\n",
       "      <th>90</th>\n",
       "      <th>91</th>\n",
       "      <th>92</th>\n",
       "      <th>93</th>\n",
       "      <th>94</th>\n",
       "      <th>95</th>\n",
       "      <th>96</th>\n",
       "      <th>97</th>\n",
       "      <th>98</th>\n",
       "      <th>99</th>\n",
       "    </tr>\n",
       "  </thead>\n",
       "  <tbody>\n",
       "    <tr>\n",
       "      <th>0</th>\n",
       "      <td>1.000000</td>\n",
       "      <td>1.000000</td>\n",
       "      <td>1.000000</td>\n",
       "      <td>1.000000</td>\n",
       "      <td>1.000000</td>\n",
       "      <td>1.000000</td>\n",
       "      <td>1.000000</td>\n",
       "      <td>1.000000</td>\n",
       "      <td>1.000000</td>\n",
       "      <td>1.000000</td>\n",
       "      <td>...</td>\n",
       "      <td>1.000000</td>\n",
       "      <td>1.000000</td>\n",
       "      <td>1.000000</td>\n",
       "      <td>1.000000</td>\n",
       "      <td>1.000000</td>\n",
       "      <td>1.000000</td>\n",
       "      <td>1.000000</td>\n",
       "      <td>1.000000</td>\n",
       "      <td>1.000000</td>\n",
       "      <td>1.000000</td>\n",
       "    </tr>\n",
       "    <tr>\n",
       "      <th>1</th>\n",
       "      <td>1.005853</td>\n",
       "      <td>1.017753</td>\n",
       "      <td>1.000942</td>\n",
       "      <td>0.994955</td>\n",
       "      <td>0.999471</td>\n",
       "      <td>0.990424</td>\n",
       "      <td>1.011130</td>\n",
       "      <td>0.997082</td>\n",
       "      <td>1.000134</td>\n",
       "      <td>0.993497</td>\n",
       "      <td>...</td>\n",
       "      <td>0.999861</td>\n",
       "      <td>1.001987</td>\n",
       "      <td>1.005647</td>\n",
       "      <td>1.008071</td>\n",
       "      <td>1.013442</td>\n",
       "      <td>0.982404</td>\n",
       "      <td>1.007823</td>\n",
       "      <td>1.004887</td>\n",
       "      <td>1.006971</td>\n",
       "      <td>1.005080</td>\n",
       "    </tr>\n",
       "    <tr>\n",
       "      <th>2</th>\n",
       "      <td>1.016524</td>\n",
       "      <td>1.026128</td>\n",
       "      <td>1.001714</td>\n",
       "      <td>0.992822</td>\n",
       "      <td>1.015792</td>\n",
       "      <td>0.984171</td>\n",
       "      <td>1.002583</td>\n",
       "      <td>1.002329</td>\n",
       "      <td>0.998157</td>\n",
       "      <td>0.990882</td>\n",
       "      <td>...</td>\n",
       "      <td>1.019436</td>\n",
       "      <td>0.995019</td>\n",
       "      <td>1.007550</td>\n",
       "      <td>1.001740</td>\n",
       "      <td>1.020554</td>\n",
       "      <td>0.977245</td>\n",
       "      <td>1.016042</td>\n",
       "      <td>1.005068</td>\n",
       "      <td>1.015343</td>\n",
       "      <td>0.993700</td>\n",
       "    </tr>\n",
       "    <tr>\n",
       "      <th>3</th>\n",
       "      <td>1.012160</td>\n",
       "      <td>1.030121</td>\n",
       "      <td>1.005383</td>\n",
       "      <td>0.978761</td>\n",
       "      <td>1.015827</td>\n",
       "      <td>0.980795</td>\n",
       "      <td>0.995055</td>\n",
       "      <td>1.014906</td>\n",
       "      <td>0.999944</td>\n",
       "      <td>0.988109</td>\n",
       "      <td>...</td>\n",
       "      <td>1.017958</td>\n",
       "      <td>0.991403</td>\n",
       "      <td>1.028626</td>\n",
       "      <td>1.008991</td>\n",
       "      <td>0.993685</td>\n",
       "      <td>0.984477</td>\n",
       "      <td>1.009422</td>\n",
       "      <td>0.997681</td>\n",
       "      <td>1.008403</td>\n",
       "      <td>1.004469</td>\n",
       "    </tr>\n",
       "    <tr>\n",
       "      <th>4</th>\n",
       "      <td>1.032531</td>\n",
       "      <td>1.056810</td>\n",
       "      <td>0.979226</td>\n",
       "      <td>0.983351</td>\n",
       "      <td>1.019751</td>\n",
       "      <td>0.978799</td>\n",
       "      <td>0.994909</td>\n",
       "      <td>1.011502</td>\n",
       "      <td>0.986612</td>\n",
       "      <td>0.997481</td>\n",
       "      <td>...</td>\n",
       "      <td>1.007391</td>\n",
       "      <td>0.991169</td>\n",
       "      <td>1.025648</td>\n",
       "      <td>1.018811</td>\n",
       "      <td>0.999085</td>\n",
       "      <td>0.991225</td>\n",
       "      <td>1.016468</td>\n",
       "      <td>0.999511</td>\n",
       "      <td>1.011414</td>\n",
       "      <td>0.998349</td>\n",
       "    </tr>\n",
       "    <tr>\n",
       "      <th>...</th>\n",
       "      <td>...</td>\n",
       "      <td>...</td>\n",
       "      <td>...</td>\n",
       "      <td>...</td>\n",
       "      <td>...</td>\n",
       "      <td>...</td>\n",
       "      <td>...</td>\n",
       "      <td>...</td>\n",
       "      <td>...</td>\n",
       "      <td>...</td>\n",
       "      <td>...</td>\n",
       "      <td>...</td>\n",
       "      <td>...</td>\n",
       "      <td>...</td>\n",
       "      <td>...</td>\n",
       "      <td>...</td>\n",
       "      <td>...</td>\n",
       "      <td>...</td>\n",
       "      <td>...</td>\n",
       "      <td>...</td>\n",
       "      <td>...</td>\n",
       "    </tr>\n",
       "    <tr>\n",
       "      <th>7556</th>\n",
       "      <td>36.100024</td>\n",
       "      <td>22.157622</td>\n",
       "      <td>69.807002</td>\n",
       "      <td>2.906144</td>\n",
       "      <td>17.329278</td>\n",
       "      <td>2.041439</td>\n",
       "      <td>15.836312</td>\n",
       "      <td>11.067503</td>\n",
       "      <td>27.768322</td>\n",
       "      <td>37.823971</td>\n",
       "      <td>...</td>\n",
       "      <td>1.982007</td>\n",
       "      <td>4.087934</td>\n",
       "      <td>3.640736</td>\n",
       "      <td>6.619031</td>\n",
       "      <td>3.410508</td>\n",
       "      <td>24.104291</td>\n",
       "      <td>24.775515</td>\n",
       "      <td>14.394364</td>\n",
       "      <td>21.516889</td>\n",
       "      <td>9.066805</td>\n",
       "    </tr>\n",
       "    <tr>\n",
       "      <th>7557</th>\n",
       "      <td>36.462068</td>\n",
       "      <td>22.349864</td>\n",
       "      <td>69.344018</td>\n",
       "      <td>2.971483</td>\n",
       "      <td>17.325353</td>\n",
       "      <td>2.027550</td>\n",
       "      <td>15.915137</td>\n",
       "      <td>11.266062</td>\n",
       "      <td>27.692097</td>\n",
       "      <td>37.681904</td>\n",
       "      <td>...</td>\n",
       "      <td>1.980670</td>\n",
       "      <td>4.123052</td>\n",
       "      <td>3.602855</td>\n",
       "      <td>6.684517</td>\n",
       "      <td>3.487980</td>\n",
       "      <td>23.850524</td>\n",
       "      <td>25.079026</td>\n",
       "      <td>14.426620</td>\n",
       "      <td>21.334297</td>\n",
       "      <td>9.117399</td>\n",
       "    </tr>\n",
       "    <tr>\n",
       "      <th>7558</th>\n",
       "      <td>37.117904</td>\n",
       "      <td>22.205811</td>\n",
       "      <td>67.928672</td>\n",
       "      <td>2.981807</td>\n",
       "      <td>17.305941</td>\n",
       "      <td>2.044899</td>\n",
       "      <td>15.660489</td>\n",
       "      <td>11.199959</td>\n",
       "      <td>27.308181</td>\n",
       "      <td>37.971035</td>\n",
       "      <td>...</td>\n",
       "      <td>1.988838</td>\n",
       "      <td>4.071460</td>\n",
       "      <td>3.617487</td>\n",
       "      <td>6.642157</td>\n",
       "      <td>3.484812</td>\n",
       "      <td>23.390121</td>\n",
       "      <td>24.673369</td>\n",
       "      <td>14.530489</td>\n",
       "      <td>21.413492</td>\n",
       "      <td>9.077189</td>\n",
       "    </tr>\n",
       "    <tr>\n",
       "      <th>7559</th>\n",
       "      <td>37.163116</td>\n",
       "      <td>21.984068</td>\n",
       "      <td>69.165508</td>\n",
       "      <td>2.946556</td>\n",
       "      <td>17.085140</td>\n",
       "      <td>2.010667</td>\n",
       "      <td>15.708652</td>\n",
       "      <td>11.334031</td>\n",
       "      <td>27.849069</td>\n",
       "      <td>37.712353</td>\n",
       "      <td>...</td>\n",
       "      <td>1.962010</td>\n",
       "      <td>4.114652</td>\n",
       "      <td>3.615452</td>\n",
       "      <td>6.632030</td>\n",
       "      <td>3.541349</td>\n",
       "      <td>23.430391</td>\n",
       "      <td>24.883800</td>\n",
       "      <td>14.513157</td>\n",
       "      <td>21.377032</td>\n",
       "      <td>9.143474</td>\n",
       "    </tr>\n",
       "    <tr>\n",
       "      <th>7560</th>\n",
       "      <td>37.902017</td>\n",
       "      <td>21.722642</td>\n",
       "      <td>69.280096</td>\n",
       "      <td>2.918930</td>\n",
       "      <td>17.084258</td>\n",
       "      <td>2.022625</td>\n",
       "      <td>15.706624</td>\n",
       "      <td>11.398557</td>\n",
       "      <td>27.811328</td>\n",
       "      <td>37.299375</td>\n",
       "      <td>...</td>\n",
       "      <td>1.977115</td>\n",
       "      <td>4.195847</td>\n",
       "      <td>3.603323</td>\n",
       "      <td>6.722288</td>\n",
       "      <td>3.498379</td>\n",
       "      <td>23.730089</td>\n",
       "      <td>24.995859</td>\n",
       "      <td>14.367169</td>\n",
       "      <td>20.990182</td>\n",
       "      <td>9.321019</td>\n",
       "    </tr>\n",
       "  </tbody>\n",
       "</table>\n",
       "<p>7561 rows × 100 columns</p>\n",
       "</div>"
      ],
      "text/plain": [
       "             0          1          2         3          4         5   \\\n",
       "0      1.000000   1.000000   1.000000  1.000000   1.000000  1.000000   \n",
       "1      1.005853   1.017753   1.000942  0.994955   0.999471  0.990424   \n",
       "2      1.016524   1.026128   1.001714  0.992822   1.015792  0.984171   \n",
       "3      1.012160   1.030121   1.005383  0.978761   1.015827  0.980795   \n",
       "4      1.032531   1.056810   0.979226  0.983351   1.019751  0.978799   \n",
       "...         ...        ...        ...       ...        ...       ...   \n",
       "7556  36.100024  22.157622  69.807002  2.906144  17.329278  2.041439   \n",
       "7557  36.462068  22.349864  69.344018  2.971483  17.325353  2.027550   \n",
       "7558  37.117904  22.205811  67.928672  2.981807  17.305941  2.044899   \n",
       "7559  37.163116  21.984068  69.165508  2.946556  17.085140  2.010667   \n",
       "7560  37.902017  21.722642  69.280096  2.918930  17.084258  2.022625   \n",
       "\n",
       "             6          7          8          9   ...        90        91  \\\n",
       "0      1.000000   1.000000   1.000000   1.000000  ...  1.000000  1.000000   \n",
       "1      1.011130   0.997082   1.000134   0.993497  ...  0.999861  1.001987   \n",
       "2      1.002583   1.002329   0.998157   0.990882  ...  1.019436  0.995019   \n",
       "3      0.995055   1.014906   0.999944   0.988109  ...  1.017958  0.991403   \n",
       "4      0.994909   1.011502   0.986612   0.997481  ...  1.007391  0.991169   \n",
       "...         ...        ...        ...        ...  ...       ...       ...   \n",
       "7556  15.836312  11.067503  27.768322  37.823971  ...  1.982007  4.087934   \n",
       "7557  15.915137  11.266062  27.692097  37.681904  ...  1.980670  4.123052   \n",
       "7558  15.660489  11.199959  27.308181  37.971035  ...  1.988838  4.071460   \n",
       "7559  15.708652  11.334031  27.849069  37.712353  ...  1.962010  4.114652   \n",
       "7560  15.706624  11.398557  27.811328  37.299375  ...  1.977115  4.195847   \n",
       "\n",
       "            92        93        94         95         96         97  \\\n",
       "0     1.000000  1.000000  1.000000   1.000000   1.000000   1.000000   \n",
       "1     1.005647  1.008071  1.013442   0.982404   1.007823   1.004887   \n",
       "2     1.007550  1.001740  1.020554   0.977245   1.016042   1.005068   \n",
       "3     1.028626  1.008991  0.993685   0.984477   1.009422   0.997681   \n",
       "4     1.025648  1.018811  0.999085   0.991225   1.016468   0.999511   \n",
       "...        ...       ...       ...        ...        ...        ...   \n",
       "7556  3.640736  6.619031  3.410508  24.104291  24.775515  14.394364   \n",
       "7557  3.602855  6.684517  3.487980  23.850524  25.079026  14.426620   \n",
       "7558  3.617487  6.642157  3.484812  23.390121  24.673369  14.530489   \n",
       "7559  3.615452  6.632030  3.541349  23.430391  24.883800  14.513157   \n",
       "7560  3.603323  6.722288  3.498379  23.730089  24.995859  14.367169   \n",
       "\n",
       "             98        99  \n",
       "0      1.000000  1.000000  \n",
       "1      1.006971  1.005080  \n",
       "2      1.015343  0.993700  \n",
       "3      1.008403  1.004469  \n",
       "4      1.011414  0.998349  \n",
       "...         ...       ...  \n",
       "7556  21.516889  9.066805  \n",
       "7557  21.334297  9.117399  \n",
       "7558  21.413492  9.077189  \n",
       "7559  21.377032  9.143474  \n",
       "7560  20.990182  9.321019  \n",
       "\n",
       "[7561 rows x 100 columns]"
      ]
     },
     "execution_count": 18,
     "metadata": {},
     "output_type": "execute_result"
    }
   ],
   "source": [
    "# Running a Monte Carlo simulation to forecast 30 years cumulative returns\n",
    "portfolio_forecast.calc_cumulative_return()"
   ]
  },
  {
   "cell_type": "code",
   "execution_count": 19,
   "metadata": {},
   "outputs": [
    {
     "data": {
      "text/plain": [
       "<Axes: title={'center': '100 Simulations of Cumulative Portfolio Return Trajectories Over the Next 7560 Trading Days.'}>"
      ]
     },
     "execution_count": 19,
     "metadata": {},
     "output_type": "execute_result"
    },
    {
     "data": {
      "image/png": "[encoded data removed]",
      "text/plain": [
       "<Figure size 640x480 with 1 Axes>"
      ]
     },
     "metadata": {},
     "output_type": "display_data"
    }
   ],
   "source": [
    "# Plot simulation outcomes\n",
    "portfolio_forecast.plot_simulation()"
   ]
  },
  {
   "cell_type": "code",
   "execution_count": 20,
   "metadata": {},
   "outputs": [
    {
     "data": {
      "text/plain": [
       "<Axes: title={'center': 'Distribution of Final Cumuluative Returns Across All 100 Simulations'}, ylabel='Frequency'>"
      ]
     },
     "execution_count": 20,
     "metadata": {},
     "output_type": "execute_result"
    },
    {
     "data": {
      "image/png": "[encoded data removed]",
      "text/plain": [
       "<Figure size 640x480 with 1 Axes>"
      ]
     },
     "metadata": {},
     "output_type": "display_data"
    }
   ],
   "source": [
    "# Plot probability distribution and confidence intervals\n",
    "portfolio_forecast.plot_distribution()"
   ]
  },
  {
   "cell_type": "markdown",
   "metadata": {},
   "source": [
    "### Retirement Analysis"
   ]
  },
  {
   "cell_type": "code",
   "execution_count": 21,
   "metadata": {},
   "outputs": [
    {
     "name": "stderr",
     "output_type": "stream",
     "text": [
      "C:\\Users\\Artur\\fintech_bootcamp\\financial_planner_demo\\MCForecastTools.py:172: FutureWarning: The series.append method is deprecated and will be removed from pandas in a future version. Use pandas.concat instead.\n",
      "  return metrics.append(ci_series)\n"
     ]
    },
    {
     "data": {
      "text/plain": [
       "count           100.000000\n",
       "mean             18.737369\n",
       "std              22.794656\n",
       "min               0.784528\n",
       "25%               5.449461\n",
       "50%              12.432716\n",
       "75%              22.219293\n",
       "max             152.015059\n",
       "95% CI Lower      1.339728\n",
       "95% CI Upper     83.616850\n",
       "Name: 7560, dtype: float64"
      ]
     },
     "execution_count": 21,
     "metadata": {},
     "output_type": "execute_result"
    }
   ],
   "source": [
    "# Fetch summary statistics from the Monte Carlo simulation results\n",
    "forecast_sum_stat = portfolio_forecast.summarize_cumulative_return()\n",
    "# Print summary statistics\n",
    "forecast_sum_stat"
   ]
  },
  {
   "cell_type": "markdown",
   "metadata": {},
   "source": [
    "### Calculate the expected portfolio return at the `95%` lower and upper confidence intervals based on a `$20,000` initial investment."
   ]
  },
  {
   "cell_type": "code",
   "execution_count": 22,
   "metadata": {},
   "outputs": [
    {
     "name": "stdout",
     "output_type": "stream",
     "text": [
      "There is a 95% chance that an initial investment of $20000 in the portfolio over the next 30 years will end within in the range of $26794.56 and $1672337.0\n"
     ]
    }
   ],
   "source": [
    "# Set initial investment\n",
    "initial_investment = 20000\n",
    "\n",
    "# Use the lower and upper `95%` confidence intervals to calculate the range of the possible outcomes of our $20,000\n",
    "ci_lower = round(forecast_sum_stat[8]*initial_investment,2)\n",
    "ci_upper = round(forecast_sum_stat[9]*initial_investment,2)\n",
    "\n",
    "# Print results\n",
    "print(f\"There is a 95% chance that an initial investment of ${initial_investment} in the portfolio\"\n",
    "      f\" over the next 30 years will end within in the range of\"\n",
    "      f\" ${ci_lower} and ${ci_upper}\")"
   ]
  },
  {
   "cell_type": "markdown",
   "metadata": {},
   "source": [
    "### Calculate the expected portfolio return at the `95%` lower and upper confidence intervals based on a `50%` increase in the initial investment."
   ]
  },
  {
   "cell_type": "code",
   "execution_count": 23,
   "metadata": {},
   "outputs": [
    {
     "name": "stdout",
     "output_type": "stream",
     "text": [
      "There is a 95% chance that an initial investment of $30000.0 in the portfolio over the next 30 years will end within in the range of $40191.85 and $2508505.5\n"
     ]
    }
   ],
   "source": [
    "# Set initial investment\n",
    "initial_investment = 20000 * 1.5\n",
    "\n",
    "# Use the lower and upper `95%` confidence intervals to calculate the range of the possible outcomes of our $30,000\n",
    "ci_lower = round(forecast_sum_stat[8]*initial_investment,2)\n",
    "ci_upper = round(forecast_sum_stat[9]*initial_investment,2)\n",
    "\n",
    "# Print results\n",
    "print(f\"There is a 95% chance that an initial investment of ${initial_investment} in the portfolio\"\n",
    "      f\" over the next 30 years will end within in the range of\"\n",
    "      f\" ${ci_lower} and ${ci_upper}\")"
   ]
  },
  {
   "cell_type": "markdown",
   "metadata": {},
   "source": [
    "## Optional Challenge - Early Retirement\n",
    "\n",
    "\n",
    "### Five Years Retirement Option"
   ]
  },
  {
   "cell_type": "code",
   "execution_count": 24,
   "metadata": {},
   "outputs": [],
   "source": [
    "# Configuring a Monte Carlo simulation to forecast 5 years cumulative returns\n",
    "# YOUR CODE HERE!"
   ]
  },
  {
   "cell_type": "code",
   "execution_count": 25,
   "metadata": {},
   "outputs": [],
   "source": [
    "# Running a Monte Carlo simulation to forecast 5 years cumulative returns\n",
    "# YOUR CODE HERE!"
   ]
  },
  {
   "cell_type": "code",
   "execution_count": 26,
   "metadata": {},
   "outputs": [],
   "source": [
    "# Plot simulation outcomes\n",
    "# YOUR CODE HERE!"
   ]
  },
  {
   "cell_type": "code",
   "execution_count": 27,
   "metadata": {},
   "outputs": [],
   "source": [
    "# Plot probability distribution and confidence intervals\n",
    "# YOUR CODE HERE!"
   ]
  },
  {
   "cell_type": "code",
   "execution_count": 28,
   "metadata": {},
   "outputs": [],
   "source": [
    "# Fetch summary statistics from the Monte Carlo simulation results\n",
    "# YOUR CODE HERE!\n",
    "\n",
    "# Print summary statistics\n",
    "# YOUR CODE HERE!"
   ]
  },
  {
   "cell_type": "code",
   "execution_count": 29,
   "metadata": {},
   "outputs": [
    {
     "ename": "NameError",
     "evalue": "name 'ci_lower_five' is not defined",
     "output_type": "error",
     "traceback": [
      "\u001b[1;31m---------------------------------------------------------------------------\u001b[0m",
      "\u001b[1;31mNameError\u001b[0m                                 Traceback (most recent call last)",
      "Cell \u001b[1;32mIn[29], line 10\u001b[0m\n\u001b[0;32m      1\u001b[0m \u001b[38;5;66;03m# Set initial investment\u001b[39;00m\n\u001b[0;32m      2\u001b[0m \u001b[38;5;66;03m# YOUR CODE HERE!\u001b[39;00m\n\u001b[0;32m      3\u001b[0m \n\u001b[1;32m   (...)\u001b[0m\n\u001b[0;32m      6\u001b[0m \n\u001b[0;32m      7\u001b[0m \u001b[38;5;66;03m# Print results\u001b[39;00m\n\u001b[0;32m      8\u001b[0m \u001b[38;5;28mprint\u001b[39m(\u001b[38;5;124mf\u001b[39m\u001b[38;5;124m\"\u001b[39m\u001b[38;5;124mThere is a 95% chance that an initial investment of $\u001b[39m\u001b[38;5;132;01m{\u001b[39;00minitial_investment\u001b[38;5;132;01m}\u001b[39;00m\u001b[38;5;124m in the portfolio\u001b[39m\u001b[38;5;124m\"\u001b[39m\n\u001b[0;32m      9\u001b[0m       \u001b[38;5;124mf\u001b[39m\u001b[38;5;124m\"\u001b[39m\u001b[38;5;124m over the next 5 years will end within in the range of\u001b[39m\u001b[38;5;124m\"\u001b[39m\n\u001b[1;32m---> 10\u001b[0m       \u001b[38;5;124mf\u001b[39m\u001b[38;5;124m\"\u001b[39m\u001b[38;5;124m $\u001b[39m\u001b[38;5;132;01m{\u001b[39;00mci_lower_five\u001b[38;5;132;01m}\u001b[39;00m\u001b[38;5;124m and $\u001b[39m\u001b[38;5;132;01m{\u001b[39;00mci_upper_five\u001b[38;5;132;01m}\u001b[39;00m\u001b[38;5;124m\"\u001b[39m)\n",
      "\u001b[1;31mNameError\u001b[0m: name 'ci_lower_five' is not defined"
     ]
    }
   ],
   "source": [
    "# Set initial investment\n",
    "# YOUR CODE HERE!\n",
    "\n",
    "# Use the lower and upper `95%` confidence intervals to calculate the range of the possible outcomes of our $60,000\n",
    "# YOUR CODE HERE!\n",
    "\n",
    "# Print results\n",
    "print(f\"There is a 95% chance that an initial investment of ${initial_investment} in the portfolio\"\n",
    "      f\" over the next 5 years will end within in the range of\"\n",
    "      f\" ${ci_lower_five} and ${ci_upper_five}\")"
   ]
  },
  {
   "cell_type": "markdown",
   "metadata": {},
   "source": [
    "### Ten Years Retirement Option"
   ]
  },
  {
   "cell_type": "code",
   "execution_count": null,
   "metadata": {},
   "outputs": [],
   "source": [
    "# Configuring a Monte Carlo simulation to forecast 10 years cumulative returns\n",
    "# YOUR CODE HERE!"
   ]
  },
  {
   "cell_type": "code",
   "execution_count": null,
   "metadata": {},
   "outputs": [],
   "source": [
    "# Running a Monte Carlo simulation to forecast 10 years cumulative returns\n",
    "# YOUR CODE HERE!"
   ]
  },
  {
   "cell_type": "code",
   "execution_count": null,
   "metadata": {},
   "outputs": [],
   "source": [
    "# Plot simulation outcomes\n",
    "# YOUR CODE HERE!"
   ]
  },
  {
   "cell_type": "code",
   "execution_count": null,
   "metadata": {},
   "outputs": [],
   "source": [
    "# Plot probability distribution and confidence intervals\n",
    "# YOUR CODE HERE!"
   ]
  },
  {
   "cell_type": "code",
   "execution_count": null,
   "metadata": {},
   "outputs": [],
   "source": [
    "# Fetch summary statistics from the Monte Carlo simulation results\n",
    "# YOUR CODE HERE!\n",
    "\n",
    "# Print summary statistics\n",
    "# YOUR CODE HERE!"
   ]
  },
  {
   "cell_type": "code",
   "execution_count": null,
   "metadata": {},
   "outputs": [],
   "source": [
    "# Set initial investment\n",
    "# YOUR CODE HERE!\n",
    "\n",
    "# Use the lower and upper `95%` confidence intervals to calculate the range of the possible outcomes of our $60,000\n",
    "# YOUR CODE HERE!\n",
    "\n",
    "# Print results\n",
    "print(f\"There is a 95% chance that an initial investment of ${initial_investment} in the portfolio\"\n",
    "      f\" over the next 10 years will end within in the range of\"\n",
    "      f\" ${ci_lower_ten} and ${ci_upper_ten}\")"
   ]
  },
  {
   "cell_type": "code",
   "execution_count": null,
   "metadata": {},
   "outputs": [],
   "source": []
  }
 ],
 "metadata": {
  "kernelspec": {
   "display_name": "Python 3 (ipykernel)",
   "language": "python",
   "name": "python3"
  },
  "language_info": {
   "codemirror_mode": {
    "name": "ipython",
    "version": 3
   },
   "file_extension": ".py",
   "mimetype": "text/x-python",
   "name": "python",
   "nbconvert_exporter": "python",
   "pygments_lexer": "ipython3",
   "version": "3.10.11"
  },
  "nteract": {
   "version": "0.28.0"
  }
 },
 "nbformat": 4,
 "nbformat_minor": 4
}
